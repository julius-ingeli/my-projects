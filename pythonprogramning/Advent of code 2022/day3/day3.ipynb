{
 "cells": [
  {
   "cell_type": "code",
   "execution_count": 110,
   "metadata": {},
   "outputs": [
    {
     "name": "stdout",
     "output_type": "stream",
     "text": [
      "['wgqJtbJMqZVTwWPZZT', 'LHcTGHQhzrTzBsZFPHFZWFFs', 'RnLRClzGzRGLGLGCNRjTMjJfgmffSffMqNgp', 'WPLgsfLmLgqZvZgSRR', 'RbwHdbDdQFFFMvvMjbhqhZZS', 'lzTdldBDszfGcRsr', 'ZjnhJjMjnbdnbHdFLmmfFLmnCCWFFl', 'PpNwtRsNsZSsRwCfzQQBfQszCBsC', 'PpwcqqVZRtbggggjcgJJ', 'ntczBcVcgnHzgBHnVntcBBFhgsmmmssqWNWNWqLvNhsqTN', 'bSSGdSDZbGSGdDmLmGTvTGmLFFhm', 'PlFbDpJDPbPdPbZQZDZlSCDBfMVRwBzBtBQzfzRHVMVRtH', 'fDVrmmrvcmCcVpfcfGlswpPwsttMpjJMPPjjtP', 'RgSTdndFLbJqqPssWWjPWjPjHS', 'FqgzQnTqJRRQqLLhTCDhDCDmcmlvvlhcVm', 'nnqVtHbfVHZVmtlvmHtZtrFSFTRRFhRccTbrLsLSGr', 'cCNJQJPJQgjjMQdDrGGsRhTFGFRFSpMS', 'gzdCwWdjNPgzcJgjwdZtVlHHmvvmZlvffHnz', 'FFgsgwNwWvggQsMWDwvQQvQcccdcJZDtJGBtVGGGtcVlzt', 'rjfTrbjpjRSRTbTpzldjjHBtJGBdltJG', 'RbrPTfpCfmbpmnfRRCvMvQWNBwFFgMsgBL', 'zzLHgjjjdFHWbGBjjzcbgQRmSvqsSpmRsRSQSmRMWv', 'ZfJVrwPhZhZlhQQqBSQSNSqM', 'tnCfrDCltfPzHFFLBgngHz', 'DCpwrrMhwCrCMVCpGFqpVDnWWTWBtnTWvWfvbbTdFWRv', 'lmhhcsQPmTtTnnPBTB', 'QmcjNJsJzHNljZsNqDCGGhwqCqhgDDZV', 'hLfRnSLfhcndCCPfJJjzJfzt', 'pHNWwDpGGNJBZjjNNj', 'gmgwwHpWTpmGDmDTggqHmmDSsnnhvcqScdVVSVcjLrRcnq', 'CdlTJgnQJVCllNVWTPZBmPPGhGRmghPRGs', 'wHDrSwtHbmhRvHVZ', 'DzzwrtVFjLNnMTCTLCWW', 'SppdsnGpNVnZZZLPMlMPGq', 'mdcfvTTbBddLJgZJLlcFqJ', 'fzTvfwjjfzzCbvvjvQjWvNHVNNVWrRtdnVNppNprDp', 'lmlCGTmNbZlbSFlbNGfnzWfWzCdWWfVdwRCf', 'jDHtHHvLjQtqrsqpjBBLprRzwfwJfzzhRnczhWQVwzVR', 'rqpPtpPjDqpqDLtLrPGGFSFgPlNZZSGMPnMZ', 'pSHShqgSMzVpphFnJMFMBtssdjRJ', 'PZDbZfmCDgDfDNQPwCflCQNJsjRBRBFsdBWBsJRjsbsFJF', 'DQvCwwZrPPlffDmQCDwZQPmPhqVTcGhSHSLTpSGhLHzpGghr', 'gPqgqqmmmPgsqvGmsMCCnfZZfvBpWZhVrrZdHBvH', 'TSlcttTjRTDlDDTRhZVdrHHpWVnfVrtd', 'SFJzFzcJjcRJwGGqJMMCwW', 'gzWNLSjRLzlNqqQMLhvQccGGmcQm', 'fFrttPdTFTrpVwGpbdVQQp', 'HnTBGfHTGzWWqCqngn', 'SddrLdVpjjVSgRBszFswzwlV', 'mtPMbMqPMvqHHHDTTglBvsFshFFg', 'bmBHbtPctMtbMNMtbPtPqHmMjpdZdcJGrjSWWZGjJZnjndWj', 'nljWJHRHGrDcMBbDLZHV', 'wdvwmhghhbtBMcLtwZ', 'gvQvvghTfPSmpmQljGFRjQbFGCsJbC', 'BmphBWmDBBQfpVgQZpjg', 'rqqGrrrqlnqqHqjNnVDSSSgQQffj', 'FqLrbsLFsbLbLqHlMrmwwPDcCmMMmJBwDJcC', 'wZccfslqZPFFjrFbFfQQ', 'vvTvVWCJJZVBWCSvnVJJrhjQVMjVjzbgMQbjpphh', 'BBmNWBvZRvSqwsGwssPcmc', 'LGpnfcnzfzQdNFNHqHJptq', 'RBNNvZSBRbRCCDJqHrDZqHFZtw', 'SRNhRsNhWSNWsRRvgjngQnnMTnTgQjGMff', 'twtZmwqBHtmqnnmlGLfcfvQQ', 'dgMSPSMdQGclRRdF', 'pVMrDgThDDlPWPWbBZtZqqttBqjqjT', 'PPSWCGSzpCCQwNsNPFhTNVbB', 'vqcgJngqLLcZLvBhNTVlbsvdFF', 'DDmHgRjHZhHtGfWpQH', 'sBLbwWWBvsBsqLqStRjcGGRnggjGcntJDn', 'NCMQPMQPMQNzGGRRgRJRGzcG', 'dHQNfPCFTQfFfVVNvwwJvSWSqWqrSqdS', 'prDBnnDpFDprnDPBDQBvpBZttcSqSZSZcScFJSHcZJtz', 'VhMVdLsjdqVWJSWZZZcHst', 'hLVdGLfqjGjlfhCfCLjTTmrlpQBPBmvnrgDgpp', 'SSSTJmmgbGwtmRZHCCZRCH', 'FWcPQrrWqflzSWpRHZCZHRSt', 'PSQzzdcQTghdndDJ', 'cLlrNPvljRhRgTlM', 'VmDBGnVdmJDnDBndnnVwDRvMgRsTbTzMMsgZghzzsB', 'SpHvmGnSDJnwvDQqfrCPLpPLCfpF', 'PppbRCCgpzzQCgCSgZTlNNTWnNNDNlRnGl', 'hwMhLtBcBdjjNzWzlclcNGTs', 'FjJFHJwhfwLHMLJLwPmqfQPgVCmQgCmCzC', 'jTtMqFjMBqBmTntTztBTnTZBRZRLpLJgDgJNhghJrNNhhLJh', 'DCDdvdGsVDVsflVdQSsfSwhRJlgppgpRpbWLgJbJpgbR', 'wfSHSsdSVvQSwfwQPQPqHtFDcMzmtjBntqMTqn', 'HQhQWLCSHCSCjnjQdSJdCSQgTTmZPTVZmqnTpPtnpmRmpp', 'vDrzhvGzfchvlGvMFMrqVqPgZVVtZtVRgZgm', 'bcvMfwvDsDfbvfwDbbdhCShWCBLLJWjHsHjj', 'zLSsJNCjsjLCNLCgGcwBPPdwBwqwqz', 'WMFZprZDbrddWRVRRDvlPPBcPhhlBqqHPGPhhffg', 'VdbFvZWWWZZDFTLtCmNntjTnLSnn', 'JLVhhwRbhVwcLFJFhhJcccqwsvpRlllvpWvZSBSSSRsNWpzl', 'jgzfPffgZNspgZQS', 'fjCmDCGnfmTfFqrFnhqbFzqt', 'SfMRRNHSNNLfRfHcRRsqwdCCsssTqBCvgBLv', 'llDDWQnFGtQnmtGQDWQFsgdHVBddndHsgqTsCTsg', 'GzGjpWmWbmQmbpGGmGjHSrZcMfZSRPJPfcMRcb', 'PDdMdRTRrLDSwzJvfSvJ', 'FnjQnsqsFTnStvplhhzzFS', 'TBHHCsgVRRcMHbLR', 'GcLdGBJvBvLJHccJBvqHpGzDFfzwfzjwhDwrSFpfpDSn', 'mZZrTTQVmQmlsMPVblZQVZmfCwjzzjChzCCbDSzhFjfnSb', 'gZlRlZNPlmlgTTPmNRvJWcqrNLdvHWLBcHtH', 'jWWbBwgwWwwtvvSCtHvgWsMFmscHzTGMmcssGFTTGz', 'ZrLtpLnlfQJqnfJtpLnZlrqdNNGqcDNNFFTNDzzMMTMsMNMs', 'LJQrnZnfLZnlrZflJJRVRQbbwBgCtCVjWgjBjjgbPjBB', 'fqQVfRqSqmpnlLnm', 'jFcjMJTjhwwggjFtgzCHmCzCmGzGlzpn', 'wstMFFjWDfQRvmDPSB', 'PgTFGPgcBZPcHPFBZRjGPgwCnmwCsmSdQdThmMMMQCQS', 'JbpvWtvfHblWDHJDzmndSdMQnSwCdhMdQD', 'rfvWlLlbtfJvvLJpqWbbqZRRGPVFNHVFgZNVFBgH', 'TRMrrGBLMLPtbssTGtBHwZmdQQbdNzzZZNZZdwjd', 'CVlVhCnclvhWSFFfQrWNrjmpNfwmjZ', 'rlqFlclChhCvnlDvgVvRRtPtqTGJHRMBRTPPqM', 'gZzCrQGQdrQvZHPTHWDbTgWPJM', 'nSpLlcnnVjsSVLLnLSnhLSsJPTTWFsqfbPMFMqJDbfqM', 'VwwnpwLnlPdQCwPPCC', 'lRlrnlrsrMlhVsRnVhGPvCFNcPBDBvccrCGr', 'RZQTzWTRdDNvBDdNcC', 'TqjZbWRHmlMJgnmsng', 'scQmLfQBQQvvZfLsmmvDJwpgSNSDDdcJSSwTGD', 'PHlMbtzCCnlbztMRzlPNNdNwGpDpwgwptNLGpw', 'rRHnLbhCzbbCHnHjMbzzjzFZmfQqWZQqvmhmfVZmqFBW', 'fLTQWTMQtjcCGCJCbf', 'gGsmsVSzmjCFHJCJgg', 'SPRsSwSvBsPRPsqzwSVqzmhVWtLWhTDNLlTDtLTWGpNMtDLt', 'mbzRbchRRQzzssLdhLggLddJ', 'DCqDNNNWvDvjcPLsJcLLdv', 'cpFCVNnVBHtbfFRtMRFf', 'PFRcCCPtsDDDtjVspgwmgTNpTgTpspsw', 'BqqqdJdHdMgSfMmZpZND', 'vDHJGdLbLzBJdGnDdrBqVtCzWPPhthtPFzzPCFtV', 'HvhvHdFdvJDfHdZdpfhrmGPljPRrGPPVDGrWWC', 'NMMsRBMzcRRMMBSzcnbmNGrCVCWrCqPClmPqlG', 'zLBbwMzQnRSQMThtZFLvpdgHtJfF', 'DpcJcJPmMcLSHHZCfpnH', 'BsBFvvqTFlbhgdbBBblfZLCLzfHWfjnjLCnCrh', 'dTsNgqFvNgsGlZJRtVtMPmtDmG', 'LdGQqzPGCCjJTJdTLJQJtFcFRSctcrFNFltPFtcc', 'HphMMbbMdBMHbBhhgHMnhvwFFvtrlSNRNgcRllcvcc', 'spHMhBnHnnsmWdnsnMBMdVGGmzjzLmZLDQCCCCZjqjTD', 'DDZMzcTRgDMLzqCffhfWfcWnfj', 'NsHVVJmswwSSwNPPNjnhqhnCCnhNvjfTnv', 'rSSddrGSGrlMrpTpQT', 'bbbfCfrLHMMMWVWC', 'SqsvNZqQvvqcjNvqZsMMwgFgFplTHQVRFgWH', 'BSZWWqBZBjmPGJGLbBtf', 'RNCNfzfRHmzHwSdRdGfzRJPqFcFcDFGccZZqtLtGLtgl', 'pjhVMhvhbjvPcDJvcZqt', 'bsQMTsjppmSdTnHSJH', 'PtLwpSwdSJwQnGvvqtvMhZ', 'TlFcHlTjVjsDTQnCQhbZGCVVnb', 'cjljTslTrlzzHDNRfNgLSNBJfBwNfG', 'HvsZZqqqwWZswWHTmHsvvfhSfBfDffjchfBbhD', 'MCpnCVpQClRNnlNQVQClfDhScmjBfLhmLDGbBNbS', 'gmtpJpQQllJnWdZWwJWFwJJT', 'TzBvBwwdhgRPGHlRHh', 'NLWttJsrLWttppLpsGlsmVbVGRljGDRgjV', 'MlllnNFnnQqCdzqq', 'vptzrJhMMGGMptJPhJGJPvdFTFcSsTBVsczBScTSFFfn', 'gbRjWgRjCqjZnfHCHnTSVBHF', 'mRwqNbmqlbbjqRNlLbNrDJntNDGtDhNpGMrpvJ', 'GPWZLgWqLHHGbgbbGPPmqHqfcjjRHJJBDRBRjBBjMHjwvwQc', 'dhpFSpzVSSMSlDBvMQ', 'TndsVNztVTspnsdpshtmZLPCGGNPfgqbWWfDGb', 'CbqDjjCdClqgrfJvrv', 'NGNPtGGzzHztPWWnlgJvfBnWBFgp', 'hGzNHhsmGccwHPHZHcwdCCdbTVRTvSmTCjbLCb', 'sqnqsHGpJbqnrbshpshHmmmCWZZmWwfTjTjHmfLZ', 'dPggRgSDDttMFgctgdDtDcDcRWJBmjTWwmRLBLfmwBBjZWTB', 'PFcVPlJPglbqhhrnnlNz', 'wZdDNDdPPfhqwWqbsF', 'VTngRzpnzMLvzTCLlhvDfltqqDttqFqs', 'mggTVpCDDSNjBmPZrd', 'cSdqJSTTTJcSJpCdQbqTCPPdjdDtGzwzjDwjwwwwzD', 'rVvsBBVgsVBhHhfljtgbPgGtWjPtwt', 'fvHsVZHVnRHpSJJRmbbSLT', 'lDDPRRjwLGlvVRDRPlwwwPvmpSfhVWSzhqfzqpHpVpVHfqSH', 'qBnqBNsBBChhCSfZ', 'nTQbQnNNQJTLvlmTPLqqmG', 'TTCJhDrmDpRVhvhHfffwzwfz', 'dmmdmglWcqvHvWsHzB', 'gdQMZbtlgQlZcMSttCNmVVrLSTTJ', 'PLZLqhZZzZLBjjjGrrPjMH', 'CcQcCcfRlWDjdrMrBrHC', 'WlWFMcFpcRFmsWFcmflqSJzTqzwLvshggsZJwz', 'LgqRDDDHHGTpgpJrQrQhhhCqrwPw', 'ZSBWjjFshCFlQDrJ', 'SjWnnbWtWnsztgGDDbDTGgHHGp', 'llfvMlvzjzGzGRfvMSGRfSdStrCtQNCZrrFdJJLnNtLZ', 'shhhshPHsTTqsBHTVTwTwZZnCtQrQnJtQCCJBCCZdZ', 'TPHTPTHmDnljplfpGfGm', 'qcNTmvvSvTNrWhRrTdthzW', 'bDVJphpMMJwJpMHtrrttWsgwtzRW', 'bFpGJbllPfplVQmnhvvcSmCFqq', 'GTPJGMQTPQMqZjHTBmnndBVddHrrzNrz', 'bbcRFgDpptRbffwmzmrvLmcZvmLmLv', 'WCwgWbpgwtgfpfMlQGPhSPZWTZPl', 'DsPCswsMPBMwPDCVJPnTPPWFGJNJmbJW', 'RvvddfvftdtvNzghGSbFnWTntJSttGbG', 'LNgRddgRlgzcgCDjjjHjcBCwcM', 'gnVtgBnpwBgShBgcwhJJhjCMMMDmLRjDRMjrDMMMDMqMRF', 'slsblHPNHlbTNbsPvszHQWbzqrZLMRmFMFmdFmrtDFdMLNZD', 'bPzfvbfsvvlHtlzPHllHGTlTppCJpgcngcpwnwCGGJnnShwV', 'cgQRgtzDbHPcgHzQWpTjTLdjjNNpNLsDss', 'nwccZBmwcJqmJnjsTvmlTSsdlTNs', 'CCGFCBVrBwwGBhqVnZBrqWMMQzHfQcHzzzPtfztGfg', 'lhnwnhlbgbngbcfDgJLJQqDdVd', 'FSrvtMFZVJJJVtcq', 'jZNNNNjmjSPjFTJmGGzswwzHwHpBsbPblhhW', 'tnDWHntzDtzQBZLMLzNLDDcRFFjhJBmcFRCTjRchcRvT', 'sqwsPlbGfSbPGSVbJfpjjhcTFmCRjjvmTTvRdw', 'lJqSqPVbgGSGrVSqJqflbWZQNDMLHnrQQWNDMtQMQz', 'lpltwwJqsWVLPtVt', 'DGHsDdZQzHLSLZcFRrFS', 'BGsGCnHmMlMwCfwT', 'nrRNzRMPrrPnNwNzTSFSTNtqZdtMttvQqQmjdjvZpgjZ', 'GWVhGcGhHhGcffbZGDmmtttQvpdtbpppdj', 'HGlHBhHGJfJJhCfZzLTTNnNrTnCNwT', 'jBpCZStjBwWrQCMrhw', 'TvcHBzHdPPzdvFTzzJlvzdQfThrhhrhfQTWMQfWMqfwf', 'bzGJJBJcJvdvBPFzddGgjZSbZZngRZNNnnsjRs', 'dqPqbpPFJfsFfMcNQNNtNmzrNQJn', 'VVBDWvwZWDLwGlDhLGWWVcmQtSNmLmtSdSSTmrcQQm', 'lZlhwDCdhhHllvWvjMHbgMpgffMggpPb', 'SWSFLLFWDSWDNFzmmLMfGlfsdfnJMBfwMGVnBf', 'vPtgZcctcTQQZRRcgCtZwRfqBVGqnVTBGVnqlsdBJnqV', 'RcjgwbbgNSbFbhDb', 'JrRZLrHvjQFPLnnBPQ', 'DhwbtHbzpcpFTgtQ', 'zlDwlHlzWSwDqhMMbSJVZVvrCrCZJZNZdJ', 'fgNCZSDtDfDZTrTfqWghQGzGQshgpGGFQg', 'RFvLnvFjnVjmLQGPQWLmWh', 'MdwwVMFbMdRHFbccbCZJtbDJrqqJZNJZCZ', 'fdZVBMMdfdfBCzhTzMdMCgCrGGrpQJmSmGJGmpJQVpLmqV', 'RbFnhNsvlDsFHttllGmqGpPLvJpmPJSqLL', 'tjNsDnNwbNjttNNZTzhMWzcZcMTwMd', 'DjSSMShjRjPCbDFCdCSDbpBBswfNWZBZZrBVBPNfVmVf', 'zltLjLqqGlzQntqqGztqcgncZrVrmNfNwWBVrVmrgwrfswsW', 'qcTqHLlnJzGznLJtHGhMbhjFhMMpFbpbThpp', 'ZVFZcctFQzsCtbZFnPPHqmqpwmvPmp', 'NrjGfMgcLLcfdLqpmRwRRqJJmdPw', 'LMNDgMBGlgGDLMNDGljctVbVWZTTCWChhTttsl', 'RMGRRhhgzgZMtHdGTtvDwDJFCDvvwdvwqFFv', 'rfrrjLNmmSnSjVSmNNPPbJVbqvqsqvhvFqCq', 'flrpnSlrSNfjrNjSphNSWlHRGzTgtQGHQtttBTRBRQHW', 'tplDDprhbvprvrJDprCpbsvHRfzSzTtzmRqSTznRRBRnSfFF', 'MVwWjVNVQGfcMnTmRnBm', 'VQwGLNLjWNWPGjZbsDBppBZhhDvBlZ', 'RVVrGVVchRZsnzRzBWZb', 'FQHWWCHwQmWmlqfCHSwJnsbNJnNsvttntBtb', 'QQSFgqgqLMLPPdWdMVhWDT', 'cZrMjncTdfJpPJbr', 'WHNqnQwwCwvlqHtCtHNslNlvLLPDfSVdVPVDVSfVSbftffVf', 'NCwwwQwllwnvgsvZzgzFZzBzjGGGMM', 'MvHpfzcTcZzpphhbsDSTStsltqSDtS', 'PRmnwCrWnWQrmNMRNnlNGbqlbDltdlbDtNtD', 'CRJnmRVWJfgMLvcz', 'HPFbHrrwLdVdgbDZqcphCqSZBhLZ', 'tQRfRRGtvTNNSGTMjjmDCRhmqpBChqhsRDZh', 'vjSfMzGQNQQnMtNTTWNNjgblFdFHwgdJJHHPwddgnr', 'BggPRVBPPgfCBmJTjTTqpTNpZBwMbr', 'lclLLllsQLFlsbMqNrMwTpwpcM', 'SvbDzSDbWFJfWPPgdnfR', 'GbpSSbGDNbSSJbDZNZbDppGtMntHLHvHCTLCJMHnRCMLTT', 'cdwddjBfPsmPPQqQqscnHgRMtngvtjjgCCTMzM', 'WvwPvWvflBwdQPlNVVhbDGpFhNGhbl', 'WZRGmRvpCRFTZMQQQMCdddDDcD', 'lqgqsgvjVtbMDzzbtcDQ', 'NsNNgjNNjsNhnSvRmnpGRmSTSG', 'nTgFtDTDDLrFBStdGdcHcbvGSc', 'QPzfPCMzWCjfMPJhWGlRbRWRWrRRdVVH', 'zhCrCQCjPrpNNBsNspNnwq', 'zTJpqFzbTzsWsVbbfLGfSSCDNSBCHfMLHG', 'rZcvtmhctrvmlPPmmmrhhmBLCHDCCLLDlqMlGMNDMwDC', 'rRhRhnnQPZhtZcZtdttZgqFWWVjssqQpppWpFpJW', 'NWPhdWJPWVzVqQrqmSsPbrPP', 'cZDRjGsffGsCDfffgjGgRQSrTcTmSlTrbnqmSSrlln', 'fFGCjGCjLDLFRgfDHZvzLVWtvsWWBtzJNWMB', 'qMVbtnmMMTpCppsR', 'NffHGrWzWWgDBfTRhChCnSCWcnjT', 'QrlQBPBrlPHrrQlrHFLqPnLvVvbVmVVJtq', 'MVMpHMZLVCpMrfWjvWnfrJ', 'hlblzDDzwlSlGtRhRlSdrfGGWnWWfFPjJjnfqWGF', 'lmlhBRlDhhhDRRhwDmBpHJmsNCHmCgNHJCJLsc', 'jvsLgmqLgHvbPPVbNjSCjC', 'pwTcRpRWLRMLJJFwBBGWcFWNVlDDCSTVttNPblZZCVVDlP', 'GcdhccpcpRpGRhGmfsHHzLQQHrmsnh', 'FMmSRgtMltMnVgnmNvlrsJrsZWjspvsZJp', 'QbdhqwqbNqdHbTdcbcpsrpvjfWfLJLfwJrWp', 'DQBBQqQGccdTPGqqBNtFGRSMRSFGtnVSnnmM', 'fPjGrfFrrprprdrbQPZwlcZwZmlJwH', 'qvNnvWnvWDvSvqNtWSLWStqbcJBQwQJwQZHLBZbcmJbblb', 'DMtvqSvvDtntCRfwzGCgdzzFjG', 'TfdZgtmfDgqgvlLFFsFHvcvZ', 'pphWQMVjQVVBWWjRlHlHnlcLDDhcnF', 'JQwwWVPBwMJpJwpWwGBWNzrDzSSzfgTPqTSTTtSPgt']\n"
     ]
    }
   ],
   "source": [
    "itemL = []\n",
    "\n",
    "fhand = open('day3 data.txt','r')\n",
    "for x in fhand:\n",
    "    itemL.append(x.replace('\\n',''))\n",
    "    \n",
    "    \n",
    "    \n",
    "def prioNum(b):\n",
    "    prioL = []\n",
    "\n",
    "    for prio in b:\n",
    "        if prio.isupper():\n",
    "            prioL.append(ord(prio)-38)\n",
    "        else:\n",
    "            prioL.append(ord(prio)-96)\n",
    "    return sum(prioL)\n",
    "\n",
    "\n",
    "print(itemL)"
   ]
  },
  {
   "cell_type": "code",
   "execution_count": 59,
   "metadata": {},
   "outputs": [
    {
     "name": "stdout",
     "output_type": "stream",
     "text": [
      "7727\n"
     ]
    }
   ],
   "source": [
    "\n",
    "resL = []\n",
    "\n",
    "\n",
    "for ruck in itemL:\n",
    "    mediL = []\n",
    "    half = len(ruck)//2\n",
    "    firstH=ruck[:half]\n",
    "    #print(firstH,end=' ')\n",
    "    ruck = ruck[half:]\n",
    "    #print(ruck)\n",
    "    for x in firstH:\n",
    "        if x in ruck and x not in mediL:\n",
    "            #print('exist')\n",
    "            mediL.append(x)\n",
    "    for e in mediL:\n",
    "        resL.append(e)\n",
    "            \n",
    "\n",
    "\n",
    "\n",
    "\n",
    "print(prioNum(resL))\n",
    "    "
   ]
  },
  {
   "cell_type": "code",
   "execution_count": 111,
   "metadata": {},
   "outputs": [
    {
     "name": "stdout",
     "output_type": "stream",
     "text": [
      "[['wgqJtbJMqZVTwWPZZT', 'LHcTGHQhzrTzBsZFPHFZWFFs', 'RnLRClzGzRGLGLGCNRjTMjJfgmffSffMqNgp'], ['WPLgsfLmLgqZvZgSRR', 'RbwHdbDdQFFFMvvMjbhqhZZS', 'lzTdldBDszfGcRsr'], ['ZjnhJjMjnbdnbHdFLmmfFLmnCCWFFl', 'PpNwtRsNsZSsRwCfzQQBfQszCBsC', 'PpwcqqVZRtbggggjcgJJ'], ['ntczBcVcgnHzgBHnVntcBBFhgsmmmssqWNWNWqLvNhsqTN', 'bSSGdSDZbGSGdDmLmGTvTGmLFFhm', 'PlFbDpJDPbPdPbZQZDZlSCDBfMVRwBzBtBQzfzRHVMVRtH'], ['fDVrmmrvcmCcVpfcfGlswpPwsttMpjJMPPjjtP', 'RgSTdndFLbJqqPssWWjPWjPjHS', 'FqgzQnTqJRRQqLLhTCDhDCDmcmlvvlhcVm'], ['nnqVtHbfVHZVmtlvmHtZtrFSFTRRFhRccTbrLsLSGr', 'cCNJQJPJQgjjMQdDrGGsRhTFGFRFSpMS', 'gzdCwWdjNPgzcJgjwdZtVlHHmvvmZlvffHnz'], ['FFgsgwNwWvggQsMWDwvQQvQcccdcJZDtJGBtVGGGtcVlzt', 'rjfTrbjpjRSRTbTpzldjjHBtJGBdltJG', 'RbrPTfpCfmbpmnfRRCvMvQWNBwFFgMsgBL'], ['zzLHgjjjdFHWbGBjjzcbgQRmSvqsSpmRsRSQSmRMWv', 'ZfJVrwPhZhZlhQQqBSQSNSqM', 'tnCfrDCltfPzHFFLBgngHz'], ['DCpwrrMhwCrCMVCpGFqpVDnWWTWBtnTWvWfvbbTdFWRv', 'lmhhcsQPmTtTnnPBTB', 'QmcjNJsJzHNljZsNqDCGGhwqCqhgDDZV'], ['hLfRnSLfhcndCCPfJJjzJfzt', 'pHNWwDpGGNJBZjjNNj', 'gmgwwHpWTpmGDmDTggqHmmDSsnnhvcqScdVVSVcjLrRcnq'], ['CdlTJgnQJVCllNVWTPZBmPPGhGRmghPRGs', 'wHDrSwtHbmhRvHVZ', 'DzzwrtVFjLNnMTCTLCWW'], ['SppdsnGpNVnZZZLPMlMPGq', 'mdcfvTTbBddLJgZJLlcFqJ', 'fzTvfwjjfzzCbvvjvQjWvNHVNNVWrRtdnVNppNprDp'], ['lmlCGTmNbZlbSFlbNGfnzWfWzCdWWfVdwRCf', 'jDHtHHvLjQtqrsqpjBBLprRzwfwJfzzhRnczhWQVwzVR', 'rqpPtpPjDqpqDLtLrPGGFSFgPlNZZSGMPnMZ'], ['pSHShqgSMzVpphFnJMFMBtssdjRJ', 'PZDbZfmCDgDfDNQPwCflCQNJsjRBRBFsdBWBsJRjsbsFJF', 'DQvCwwZrPPlffDmQCDwZQPmPhqVTcGhSHSLTpSGhLHzpGghr'], ['gPqgqqmmmPgsqvGmsMCCnfZZfvBpWZhVrrZdHBvH', 'TSlcttTjRTDlDDTRhZVdrHHpWVnfVrtd', 'SFJzFzcJjcRJwGGqJMMCwW'], ['gzWNLSjRLzlNqqQMLhvQccGGmcQm', 'fFrttPdTFTrpVwGpbdVQQp', 'HnTBGfHTGzWWqCqngn'], ['SddrLdVpjjVSgRBszFswzwlV', 'mtPMbMqPMvqHHHDTTglBvsFshFFg', 'bmBHbtPctMtbMNMtbPtPqHmMjpdZdcJGrjSWWZGjJZnjndWj'], ['nljWJHRHGrDcMBbDLZHV', 'wdvwmhghhbtBMcLtwZ', 'gvQvvghTfPSmpmQljGFRjQbFGCsJbC'], ['BmphBWmDBBQfpVgQZpjg', 'rqqGrrrqlnqqHqjNnVDSSSgQQffj', 'FqLrbsLFsbLbLqHlMrmwwPDcCmMMmJBwDJcC'], ['wZccfslqZPFFjrFbFfQQ', 'vvTvVWCJJZVBWCSvnVJJrhjQVMjVjzbgMQbjpphh', 'BBmNWBvZRvSqwsGwssPcmc'], ['LGpnfcnzfzQdNFNHqHJptq', 'RBNNvZSBRbRCCDJqHrDZqHFZtw', 'SRNhRsNhWSNWsRRvgjngQnnMTnTgQjGMff'], ['twtZmwqBHtmqnnmlGLfcfvQQ', 'dgMSPSMdQGclRRdF', 'pVMrDgThDDlPWPWbBZtZqqttBqjqjT'], ['PPSWCGSzpCCQwNsNPFhTNVbB', 'vqcgJngqLLcZLvBhNTVlbsvdFF', 'DDmHgRjHZhHtGfWpQH'], ['sBLbwWWBvsBsqLqStRjcGGRnggjGcntJDn', 'NCMQPMQPMQNzGGRRgRJRGzcG', 'dHQNfPCFTQfFfVVNvwwJvSWSqWqrSqdS'], ['prDBnnDpFDprnDPBDQBvpBZttcSqSZSZcScFJSHcZJtz', 'VhMVdLsjdqVWJSWZZZcHst', 'hLVdGLfqjGjlfhCfCLjTTmrlpQBPBmvnrgDgpp'], ['SSSTJmmgbGwtmRZHCCZRCH', 'FWcPQrrWqflzSWpRHZCZHRSt', 'PSQzzdcQTghdndDJ'], ['cLlrNPvljRhRgTlM', 'VmDBGnVdmJDnDBndnnVwDRvMgRsTbTzMMsgZghzzsB', 'SpHvmGnSDJnwvDQqfrCPLpPLCfpF'], ['PppbRCCgpzzQCgCSgZTlNNTWnNNDNlRnGl', 'hwMhLtBcBdjjNzWzlclcNGTs', 'FjJFHJwhfwLHMLJLwPmqfQPgVCmQgCmCzC'], ['jTtMqFjMBqBmTntTztBTnTZBRZRLpLJgDgJNhghJrNNhhLJh', 'DCDdvdGsVDVsflVdQSsfSwhRJlgppgpRpbWLgJbJpgbR', 'wfSHSsdSVvQSwfwQPQPqHtFDcMzmtjBntqMTqn'], ['HQhQWLCSHCSCjnjQdSJdCSQgTTmZPTVZmqnTpPtnpmRmpp', 'vDrzhvGzfchvlGvMFMrqVqPgZVVtZtVRgZgm', 'bcvMfwvDsDfbvfwDbbdhCShWCBLLJWjHsHjj'], ['zLSsJNCjsjLCNLCgGcwBPPdwBwqwqz', 'WMFZprZDbrddWRVRRDvlPPBcPhhlBqqHPGPhhffg', 'VdbFvZWWWZZDFTLtCmNntjTnLSnn'], ['JLVhhwRbhVwcLFJFhhJcccqwsvpRlllvpWvZSBSSSRsNWpzl', 'jgzfPffgZNspgZQS', 'fjCmDCGnfmTfFqrFnhqbFzqt'], ['SfMRRNHSNNLfRfHcRRsqwdCCsssTqBCvgBLv', 'llDDWQnFGtQnmtGQDWQFsgdHVBddndHsgqTsCTsg', 'GzGjpWmWbmQmbpGGmGjHSrZcMfZSRPJPfcMRcb'], ['PDdMdRTRrLDSwzJvfSvJ', 'FnjQnsqsFTnStvplhhzzFS', 'TBHHCsgVRRcMHbLR'], ['GcLdGBJvBvLJHccJBvqHpGzDFfzwfzjwhDwrSFpfpDSn', 'mZZrTTQVmQmlsMPVblZQVZmfCwjzzjChzCCbDSzhFjfnSb', 'gZlRlZNPlmlgTTPmNRvJWcqrNLdvHWLBcHtH'], ['jWWbBwgwWwwtvvSCtHvgWsMFmscHzTGMmcssGFTTGz', 'ZrLtpLnlfQJqnfJtpLnZlrqdNNGqcDNNFFTNDzzMMTMsMNMs', 'LJQrnZnfLZnlrZflJJRVRQbbwBgCtCVjWgjBjjgbPjBB'], ['fqQVfRqSqmpnlLnm', 'jFcjMJTjhwwggjFtgzCHmCzCmGzGlzpn', 'wstMFFjWDfQRvmDPSB'], ['PgTFGPgcBZPcHPFBZRjGPgwCnmwCsmSdQdThmMMMQCQS', 'JbpvWtvfHblWDHJDzmndSdMQnSwCdhMdQD', 'rfvWlLlbtfJvvLJpqWbbqZRRGPVFNHVFgZNVFBgH'], ['TRMrrGBLMLPtbssTGtBHwZmdQQbdNzzZZNZZdwjd', 'CVlVhCnclvhWSFFfQrWNrjmpNfwmjZ', 'rlqFlclChhCvnlDvgVvRRtPtqTGJHRMBRTPPqM'], ['gZzCrQGQdrQvZHPTHWDbTgWPJM', 'nSpLlcnnVjsSVLLnLSnhLSsJPTTWFsqfbPMFMqJDbfqM', 'VwwnpwLnlPdQCwPPCC'], ['lRlrnlrsrMlhVsRnVhGPvCFNcPBDBvccrCGr', 'RZQTzWTRdDNvBDdNcC', 'TqjZbWRHmlMJgnmsng'], ['scQmLfQBQQvvZfLsmmvDJwpgSNSDDdcJSSwTGD', 'PHlMbtzCCnlbztMRzlPNNdNwGpDpwgwptNLGpw', 'rRHnLbhCzbbCHnHjMbzzjzFZmfQqWZQqvmhmfVZmqFBW'], ['fLTQWTMQtjcCGCJCbf', 'gGsmsVSzmjCFHJCJgg', 'SPRsSwSvBsPRPsqzwSVqzmhVWtLWhTDNLlTDtLTWGpNMtDLt'], ['mbzRbchRRQzzssLdhLggLddJ', 'DCqDNNNWvDvjcPLsJcLLdv', 'cpFCVNnVBHtbfFRtMRFf'], ['PFRcCCPtsDDDtjVspgwmgTNpTgTpspsw', 'BqqqdJdHdMgSfMmZpZND', 'vDHJGdLbLzBJdGnDdrBqVtCzWPPhthtPFzzPCFtV'], ['HvhvHdFdvJDfHdZdpfhrmGPljPRrGPPVDGrWWC', 'NMMsRBMzcRRMMBSzcnbmNGrCVCWrCqPClmPqlG', 'zLBbwMzQnRSQMThtZFLvpdgHtJfF'], ['DpcJcJPmMcLSHHZCfpnH', 'BsBFvvqTFlbhgdbBBblfZLCLzfHWfjnjLCnCrh', 'dTsNgqFvNgsGlZJRtVtMPmtDmG'], ['LdGQqzPGCCjJTJdTLJQJtFcFRSctcrFNFltPFtcc', 'HphMMbbMdBMHbBhhgHMnhvwFFvtrlSNRNgcRllcvcc', 'spHMhBnHnnsmWdnsnMBMdVGGmzjzLmZLDQCCCCZjqjTD'], ['DDZMzcTRgDMLzqCffhfWfcWnfj', 'NsHVVJmswwSSwNPPNjnhqhnCCnhNvjfTnv', 'rSSddrGSGrlMrpTpQT'], ['bbbfCfrLHMMMWVWC', 'SqsvNZqQvvqcjNvqZsMMwgFgFplTHQVRFgWH', 'BSZWWqBZBjmPGJGLbBtf'], ['RNCNfzfRHmzHwSdRdGfzRJPqFcFcDFGccZZqtLtGLtgl', 'pjhVMhvhbjvPcDJvcZqt', 'bsQMTsjppmSdTnHSJH'], ['PtLwpSwdSJwQnGvvqtvMhZ', 'TlFcHlTjVjsDTQnCQhbZGCVVnb', 'cjljTslTrlzzHDNRfNgLSNBJfBwNfG'], ['HvsZZqqqwWZswWHTmHsvvfhSfBfDffjchfBbhD', 'MCpnCVpQClRNnlNQVQClfDhScmjBfLhmLDGbBNbS', 'gmtpJpQQllJnWdZWwJWFwJJT'], ['TzBvBwwdhgRPGHlRHh', 'NLWttJsrLWttppLpsGlsmVbVGRljGDRgjV', 'MlllnNFnnQqCdzqq'], ['vptzrJhMMGGMptJPhJGJPvdFTFcSsTBVsczBScTSFFfn', 'gbRjWgRjCqjZnfHCHnTSVBHF', 'mRwqNbmqlbbjqRNlLbNrDJntNDGtDhNpGMrpvJ'], ['GPWZLgWqLHHGbgbbGPPmqHqfcjjRHJJBDRBRjBBjMHjwvwQc', 'dhpFSpzVSSMSlDBvMQ', 'TndsVNztVTspnsdpshtmZLPCGGNPfgqbWWfDGb'], ['CbqDjjCdClqgrfJvrv', 'NGNPtGGzzHztPWWnlgJvfBnWBFgp', 'hGzNHhsmGccwHPHZHcwdCCdbTVRTvSmTCjbLCb'], ['sqnqsHGpJbqnrbshpshHmmmCWZZmWwfTjTjHmfLZ', 'dPggRgSDDttMFgctgdDtDcDcRWJBmjTWwmRLBLfmwBBjZWTB', 'PFcVPlJPglbqhhrnnlNz'], ['wZdDNDdPPfhqwWqbsF', 'VTngRzpnzMLvzTCLlhvDfltqqDttqFqs', 'mggTVpCDDSNjBmPZrd'], ['cSdqJSTTTJcSJpCdQbqTCPPdjdDtGzwzjDwjwwwwzD', 'rVvsBBVgsVBhHhfljtgbPgGtWjPtwt', 'fvHsVZHVnRHpSJJRmbbSLT'], ['lDDPRRjwLGlvVRDRPlwwwPvmpSfhVWSzhqfzqpHpVpVHfqSH', 'qBnqBNsBBChhCSfZ', 'nTQbQnNNQJTLvlmTPLqqmG'], ['TTCJhDrmDpRVhvhHfffwzwfz', 'dmmdmglWcqvHvWsHzB', 'gdQMZbtlgQlZcMSttCNmVVrLSTTJ'], ['PLZLqhZZzZLBjjjGrrPjMH', 'CcQcCcfRlWDjdrMrBrHC', 'WlWFMcFpcRFmsWFcmflqSJzTqzwLvshggsZJwz'], ['LgqRDDDHHGTpgpJrQrQhhhCqrwPw', 'ZSBWjjFshCFlQDrJ', 'SjWnnbWtWnsztgGDDbDTGgHHGp'], ['llfvMlvzjzGzGRfvMSGRfSdStrCtQNCZrrFdJJLnNtLZ', 'shhhshPHsTTqsBHTVTwTwZZnCtQrQnJtQCCJBCCZdZ', 'TPHTPTHmDnljplfpGfGm'], ['qcNTmvvSvTNrWhRrTdthzW', 'bDVJphpMMJwJpMHtrrttWsgwtzRW', 'bFpGJbllPfplVQmnhvvcSmCFqq'], ['GTPJGMQTPQMqZjHTBmnndBVddHrrzNrz', 'bbcRFgDpptRbffwmzmrvLmcZvmLmLv', 'WCwgWbpgwtgfpfMlQGPhSPZWTZPl'], ['DsPCswsMPBMwPDCVJPnTPPWFGJNJmbJW', 'RvvddfvftdtvNzghGSbFnWTntJSttGbG', 'LNgRddgRlgzcgCDjjjHjcBCwcM'], ['gnVtgBnpwBgShBgcwhJJhjCMMMDmLRjDRMjrDMMMDMqMRF', 'slsblHPNHlbTNbsPvszHQWbzqrZLMRmFMFmdFmrtDFdMLNZD', 'bPzfvbfsvvlHtlzPHllHGTlTppCJpgcngcpwnwCGGJnnShwV'], ['cgQRgtzDbHPcgHzQWpTjTLdjjNNpNLsDss', 'nwccZBmwcJqmJnjsTvmlTSsdlTNs', 'CCGFCBVrBwwGBhqVnZBrqWMMQzHfQcHzzzPtfztGfg'], ['lhnwnhlbgbngbcfDgJLJQqDdVd', 'FSrvtMFZVJJJVtcq', 'jZNNNNjmjSPjFTJmGGzswwzHwHpBsbPblhhW'], ['tnDWHntzDtzQBZLMLzNLDDcRFFjhJBmcFRCTjRchcRvT', 'sqwsPlbGfSbPGSVbJfpjjhcTFmCRjjvmTTvRdw', 'lJqSqPVbgGSGrVSqJqflbWZQNDMLHnrQQWNDMtQMQz'], ['lpltwwJqsWVLPtVt', 'DGHsDdZQzHLSLZcFRrFS', 'BGsGCnHmMlMwCfwT'], ['nrRNzRMPrrPnNwNzTSFSTNtqZdtMttvQqQmjdjvZpgjZ', 'GWVhGcGhHhGcffbZGDmmtttQvpdtbpppdj', 'HGlHBhHGJfJJhCfZzLTTNnNrTnCNwT'], ['jBpCZStjBwWrQCMrhw', 'TvcHBzHdPPzdvFTzzJlvzdQfThrhhrhfQTWMQfWMqfwf', 'bzGJJBJcJvdvBPFzddGgjZSbZZngRZNNnnsjRs'], ['dqPqbpPFJfsFfMcNQNNtNmzrNQJn', 'VVBDWvwZWDLwGlDhLGWWVcmQtSNmLmtSdSSTmrcQQm', 'lZlhwDCdhhHllvWvjMHbgMpgffMggpPb'], ['SWSFLLFWDSWDNFzmmLMfGlfsdfnJMBfwMGVnBf', 'vPtgZcctcTQQZRRcgCtZwRfqBVGqnVTBGVnqlsdBJnqV', 'RcjgwbbgNSbFbhDb'], ['JrRZLrHvjQFPLnnBPQ', 'DhwbtHbzpcpFTgtQ', 'zlDwlHlzWSwDqhMMbSJVZVvrCrCZJZNZdJ'], ['fgNCZSDtDfDZTrTfqWghQGzGQshgpGGFQg', 'RFvLnvFjnVjmLQGPQWLmWh', 'MdwwVMFbMdRHFbccbCZJtbDJrqqJZNJZCZ'], ['fdZVBMMdfdfBCzhTzMdMCgCrGGrpQJmSmGJGmpJQVpLmqV', 'RbFnhNsvlDsFHttllGmqGpPLvJpmPJSqLL', 'tjNsDnNwbNjttNNZTzhMWzcZcMTwMd'], ['DjSSMShjRjPCbDFCdCSDbpBBswfNWZBZZrBVBPNfVmVf', 'zltLjLqqGlzQntqqGztqcgncZrVrmNfNwWBVrVmrgwrfswsW', 'qcTqHLlnJzGznLJtHGhMbhjFhMMpFbpbThpp'], ['ZVFZcctFQzsCtbZFnPPHqmqpwmvPmp', 'NrjGfMgcLLcfdLqpmRwRRqJJmdPw', 'LMNDgMBGlgGDLMNDGljctVbVWZTTCWChhTttsl'], ['RMGRRhhgzgZMtHdGTtvDwDJFCDvvwdvwqFFv', 'rfrrjLNmmSnSjVSmNNPPbJVbqvqsqvhvFqCq', 'flrpnSlrSNfjrNjSphNSWlHRGzTgtQGHQtttBTRBRQHW'], ['tplDDprhbvprvrJDprCpbsvHRfzSzTtzmRqSTznRRBRnSfFF', 'MVwWjVNVQGfcMnTmRnBm', 'VQwGLNLjWNWPGjZbsDBppBZhhDvBlZ'], ['RVVrGVVchRZsnzRzBWZb', 'FQHWWCHwQmWmlqfCHSwJnsbNJnNsvttntBtb', 'QQSFgqgqLMLPPdWdMVhWDT'], ['cZrMjncTdfJpPJbr', 'WHNqnQwwCwvlqHtCtHNslNlvLLPDfSVdVPVDVSfVSbftffVf', 'NCwwwQwllwnvgsvZzgzFZzBzjGGGMM'], ['MvHpfzcTcZzpphhbsDSTStsltqSDtS', 'PRmnwCrWnWQrmNMRNnlNGbqlbDltdlbDtNtD', 'CRJnmRVWJfgMLvcz'], ['HPFbHrrwLdVdgbDZqcphCqSZBhLZ', 'tQRfRRGtvTNNSGTMjjmDCRhmqpBChqhsRDZh', 'vjSfMzGQNQQnMtNTTWNNjgblFdFHwgdJJHHPwddgnr'], ['BggPRVBPPgfCBmJTjTTqpTNpZBwMbr', 'lclLLllsQLFlsbMqNrMwTpwpcM', 'SvbDzSDbWFJfWPPgdnfR'], ['GbpSSbGDNbSSJbDZNZbDppGtMntHLHvHCTLCJMHnRCMLTT', 'cdwddjBfPsmPPQqQqscnHgRMtngvtjjgCCTMzM', 'WvwPvWvflBwdQPlNVVhbDGpFhNGhbl'], ['WZRGmRvpCRFTZMQQQMCdddDDcD', 'lqgqsgvjVtbMDzzbtcDQ', 'NsNNgjNNjsNhnSvRmnpGRmSTSG'], ['nTgFtDTDDLrFBStdGdcHcbvGSc', 'QPzfPCMzWCjfMPJhWGlRbRWRWrRRdVVH', 'zhCrCQCjPrpNNBsNspNnwq'], ['zTJpqFzbTzsWsVbbfLGfSSCDNSBCHfMLHG', 'rZcvtmhctrvmlPPmmmrhhmBLCHDCCLLDlqMlGMNDMwDC', 'rRhRhnnQPZhtZcZtdttZgqFWWVjssqQpppWpFpJW'], ['NWPhdWJPWVzVqQrqmSsPbrPP', 'cZDRjGsffGsCDfffgjGgRQSrTcTmSlTrbnqmSSrlln', 'fFGCjGCjLDLFRgfDHZvzLVWtvsWWBtzJNWMB'], ['qMVbtnmMMTpCppsR', 'NffHGrWzWWgDBfTRhChCnSCWcnjT', 'QrlQBPBrlPHrrQlrHFLqPnLvVvbVmVVJtq'], ['MVMpHMZLVCpMrfWjvWnfrJ', 'hlblzDDzwlSlGtRhRlSdrfGGWnWWfFPjJjnfqWGF', 'lmlhBRlDhhhDRRhwDmBpHJmsNCHmCgNHJCJLsc'], ['jvsLgmqLgHvbPPVbNjSCjC', 'pwTcRpRWLRMLJJFwBBGWcFWNVlDDCSTVttNPblZZCVVDlP', 'GcdhccpcpRpGRhGmfsHHzLQQHrmsnh'], ['FMmSRgtMltMnVgnmNvlrsJrsZWjspvsZJp', 'QbdhqwqbNqdHbTdcbcpsrpvjfWfLJLfwJrWp', 'DQBBQqQGccdTPGqqBNtFGRSMRSFGtnVSnnmM'], ['fPjGrfFrrprprdrbQPZwlcZwZmlJwH', 'qvNnvWnvWDvSvqNtWSLWStqbcJBQwQJwQZHLBZbcmJbblb', 'DMtvqSvvDtntCRfwzGCgdzzFjG'], ['TfdZgtmfDgqgvlLFFsFHvcvZ', 'pphWQMVjQVVBWWjRlHlHnlcLDDhcnF', 'JQwwWVPBwMJpJwpWwGBWNzrDzSSzfgTPqTSTTtSPgt']]\n"
     ]
    }
   ],
   "source": [
    "resL=[]\n",
    "itr = 0\n",
    "for x in itemL:\n",
    "    subItemL = []\n",
    "    for a in range(3):\n",
    "        if itr == len(itemL):\n",
    "            break\n",
    "\n",
    "        subItemL.append(itemL[itr])\n",
    "        itr+=1\n",
    "\n",
    "    resL.append(subItemL)\n",
    "newL = []\n",
    "for x in resL:\n",
    "\n",
    "    if len(x) != 0:\n",
    "\n",
    "        newL.append(x)\n",
    "\n",
    "\n",
    "resL = newL\n",
    "del newL\n",
    "print(resL)\n"
   ]
  },
  {
   "cell_type": "code",
   "execution_count": 112,
   "metadata": {},
   "outputs": [
    {
     "name": "stdout",
     "output_type": "stream",
     "text": [
      "[['T'], ['R'], ['Z'], ['F'], ['J'], ['c'], ['B'], ['B'], ['h'], ['j'], ['V'], ['d'], ['n'], ['g'], ['W'], ['G'], ['B'], ['b'], ['D'], ['Z'], ['N'], ['l'], ['h'], ['J'], ['q'], ['S'], ['v'], ['z'], ['D'], ['h'], ['d'], ['z'], ['H'], ['T'], ['r'], ['t'], ['m'], ['H'], ['r'], ['P'], ['R'], ['L'], ['G'], ['c'], ['D'], ['R'], ['Z'], ['d'], ['T'], ['W'], ['J'], ['G'], ['m'], ['l'], ['n'], ['D'], ['v'], ['J'], ['D'], ['b'], ['q'], ['m'], ['M'], ['D'], ['n'], ['h'], ['Z'], ['N'], ['t'], ['c'], ['J'], ['J'], ['s'], ['Z'], ['B'], ['d'], ['w'], ['H'], ['F'], ['h'], ['j'], ['c'], ['h'], ['B'], ['W'], ['n'], ['M'], ['S'], ['b'], ['v'], ['v'], ['r'], ['q'], ['s'], ['n'], ['J'], ['L'], ['N'], ['w'], ['D']]\n",
      "2609\n"
     ]
    }
   ],
   "source": [
    "prioL = []\n",
    "\n",
    "for x in resL:\n",
    "    mediL = []\n",
    "    for ch in x[0]:\n",
    "        if x[1].count(ch) != 0 and x[2].count(ch) != 0:\n",
    "            if ch not in mediL:\n",
    "                mediL.append(ch)\n",
    "    prioL.append(mediL)\n",
    "    \n",
    "    \n",
    "print(prioL)\n",
    "\n",
    "prioL2 = []\n",
    "for g in prioL:\n",
    "    for a in g:\n",
    "        prioL2.append(a)\n",
    "        \n",
    "prioL = prioL2\n",
    "del prioL2\n",
    "\n",
    "print(prioNum(prioL))"
   ]
  }
 ],
 "metadata": {
  "kernelspec": {
   "display_name": "Python 3",
   "language": "python",
   "name": "python3"
  },
  "language_info": {
   "codemirror_mode": {
    "name": "ipython",
    "version": 3
   },
   "file_extension": ".py",
   "mimetype": "text/x-python",
   "name": "python",
   "nbconvert_exporter": "python",
   "pygments_lexer": "ipython3",
   "version": "3.10.1 (tags/v3.10.1:2cd268a, Dec  6 2021, 19:10:37) [MSC v.1929 64 bit (AMD64)]"
  },
  "orig_nbformat": 4,
  "vscode": {
   "interpreter": {
    "hash": "a42ccb73e7d9bfdf27e036f1d2b8b681e55fc0743cc5586bc2474d4a60f4b886"
   }
  }
 },
 "nbformat": 4,
 "nbformat_minor": 2
}
