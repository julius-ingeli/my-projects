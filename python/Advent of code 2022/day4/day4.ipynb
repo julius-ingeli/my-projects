{
 "cells": [
  {
   "cell_type": "code",
   "execution_count": 10,
   "metadata": {},
   "outputs": [
    {
     "name": "stdout",
     "output_type": "stream",
     "text": [
      "['2-4,6-8', '2-3,4-5', '5-7,7-9', '2-8,3-7', '6-6,4-6', '2-6,4-8']\n",
      "3 1 5\n",
      "3 1 5\n",
      "3 1 5\n",
      "3 1 5\n",
      "3 1 5\n",
      "3 1 5\n"
     ]
    }
   ],
   "source": [
    "itemL = []\n",
    "\n",
    "fhand = open('day4 data.txt','r')\n",
    "for x in fhand:\n",
    "    itemL.append(x.replace('\\n',''))\n",
    "    \n",
    "\n",
    "print(itemL)\n",
    "\n",
    "for x in itemL:\n",
    "    colonInd = x.index(',')\n",
    "    firstDashInd = x.index('-')\n",
    "    secondDashInd = colonInd+x[colonInd:].index('-')\n",
    "    print(colonInd,firstDashInd,secondDashInd)\n",
    "    \n"
   ]
  }
 ],
 "metadata": {
  "kernelspec": {
   "display_name": "Python 3",
   "language": "python",
   "name": "python3"
  },
  "language_info": {
   "codemirror_mode": {
    "name": "ipython",
    "version": 3
   },
   "file_extension": ".py",
   "mimetype": "text/x-python",
   "name": "python",
   "nbconvert_exporter": "python",
   "pygments_lexer": "ipython3",
   "version": "3.10.1"
  },
  "orig_nbformat": 4,
  "vscode": {
   "interpreter": {
    "hash": "a42ccb73e7d9bfdf27e036f1d2b8b681e55fc0743cc5586bc2474d4a60f4b886"
   }
  }
 },
 "nbformat": 4,
 "nbformat_minor": 2
}
